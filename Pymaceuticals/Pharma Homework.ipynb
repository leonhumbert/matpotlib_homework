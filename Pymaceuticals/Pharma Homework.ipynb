{
 "cells": [
  {
   "cell_type": "markdown",
   "metadata": {},
   "source": [
    "## Observations and Insights"
   ]
  },
  {
   "cell_type": "markdown",
   "metadata": {},
   "source": []
  },
  {
   "cell_type": "markdown",
   "metadata": {},
   "source": [
    "## Dependencies and starter code"
   ]
  },
  {
   "cell_type": "code",
   "execution_count": 1,
   "metadata": {},
   "outputs": [],
   "source": [
    "# Dependencies and Setup\n",
    "\n",
    "import matplotlib.pyplot as plt\n",
    "import pandas as pd\n",
    "import scipy.stats as st\n",
    "import numpy as np\n",
    "from scipy.stats import sem\n",
    "\n",
    "# Study data files\n",
    "mouse_metadata = \"data/Mouse_metadata.csv\"\n",
    "study_results = \"data/Study_results.csv\"\n",
    "\n",
    "# Read the mouse data and the study results\n",
    "mouse_metadata = pd.read_csv(mouse_metadata)\n",
    "study_results = pd.read_csv(study_results)\n"
   ]
  },
  {
   "cell_type": "code",
   "execution_count": 2,
   "metadata": {},
   "outputs": [
    {
     "name": "stdout",
     "output_type": "stream",
     "text": [
      "<class 'pandas.core.frame.DataFrame'>\n",
      "Int64Index: 1893 entries, 0 to 1892\n",
      "Data columns (total 8 columns):\n",
      " #   Column              Non-Null Count  Dtype  \n",
      "---  ------              --------------  -----  \n",
      " 0   Mouse ID            1893 non-null   object \n",
      " 1   Drug Regimen        1893 non-null   object \n",
      " 2   Sex                 1893 non-null   object \n",
      " 3   Age_months          1893 non-null   int64  \n",
      " 4   Weight (g)          1893 non-null   int64  \n",
      " 5   Timepoint           1893 non-null   int64  \n",
      " 6   Tumor Volume (mm3)  1893 non-null   float64\n",
      " 7   Metastatic Sites    1893 non-null   int64  \n",
      "dtypes: float64(1), int64(4), object(3)\n",
      "memory usage: 133.1+ KB\n"
     ]
    }
   ],
   "source": [
    "#Combine the data into a single dataset\n",
    "pharma_df = pd.merge(mouse_metadata, study_results, how=\"left\", on=[\"Mouse ID\", \"Mouse ID\"])\n",
    "pharma_df.info()"
   ]
  },
  {
   "cell_type": "markdown",
   "metadata": {},
   "source": [
    "\n",
    "## Tasks"
   ]
  },
  {
   "cell_type": "code",
   "execution_count": 3,
   "metadata": {},
   "outputs": [
    {
     "name": "stdout",
     "output_type": "stream",
     "text": [
      "['Ramicane', 'Capomulin', 'Infubinol', 'Placebo', 'Ceftamin', 'Stelasyn', 'Zoniferol', 'Ketapril', 'Propriva', 'Naftisol']\n"
     ]
    }
   ],
   "source": [
    "drg_regimen = pharma_df['Drug Regimen'].unique().tolist()\n",
    "print(drg_regimen)"
   ]
  },
  {
   "cell_type": "code",
   "execution_count": 4,
   "metadata": {},
   "outputs": [],
   "source": [
    "#Create df for each drug regimen filtering with .loc\n",
    "ramicane_df = pd.DataFrame(pharma_df.loc[pharma_df[\"Drug Regimen\"] == 'Ramicane'])\n",
    "capomulin_df = pd.DataFrame(pharma_df.loc[pharma_df[\"Drug Regimen\"] == 'Capomulin'])\n",
    "infubinol_df = pd.DataFrame(pharma_df.loc[pharma_df[\"Drug Regimen\"] == 'Infubinol'])\n",
    "placebo_df = pd.DataFrame(pharma_df.loc[pharma_df[\"Drug Regimen\"] == 'Placebo'])\n",
    "ceftamin_df = pd.DataFrame(pharma_df.loc[pharma_df[\"Drug Regimen\"] == 'Ceftamin'])\n",
    "stelasyn_df = pd.DataFrame(pharma_df.loc[pharma_df[\"Drug Regimen\"] == 'Stelasyn'])\n",
    "zoniferol_df = pd.DataFrame(pharma_df.loc[pharma_df[\"Drug Regimen\"] == 'Zoniferol'])\n",
    "ketapril_df = pd.DataFrame(pharma_df.loc[pharma_df[\"Drug Regimen\"] == 'Ketapril'])\n",
    "propiva_df = pd.DataFrame(pharma_df.loc[pharma_df[\"Drug Regimen\"] == 'Propriva'])\n",
    "naftisol_df = pd.DataFrame(pharma_df.loc[pharma_df[\"Drug Regimen\"] == 'Naftisol'])"
   ]
  },
  {
   "cell_type": "markdown",
   "metadata": {},
   "source": [
    "## Summary statistics"
   ]
  },
  {
   "cell_type": "code",
   "execution_count": 5,
   "metadata": {},
   "outputs": [
    {
     "data": {
      "text/html": [
       "<div>\n",
       "<style scoped>\n",
       "    .dataframe tbody tr th:only-of-type {\n",
       "        vertical-align: middle;\n",
       "    }\n",
       "\n",
       "    .dataframe tbody tr th {\n",
       "        vertical-align: top;\n",
       "    }\n",
       "\n",
       "    .dataframe thead th {\n",
       "        text-align: right;\n",
       "    }\n",
       "</style>\n",
       "<table border=\"1\" class=\"dataframe\">\n",
       "  <thead>\n",
       "    <tr style=\"text-align: right;\">\n",
       "      <th></th>\n",
       "      <th>Drug Regimen</th>\n",
       "      <th>Tumor Volume Mean(mm3)</th>\n",
       "      <th>Tumor Volume Median (mm3)</th>\n",
       "      <th>Tumor Volume Variance</th>\n",
       "      <th>Tumor Volume StDev</th>\n",
       "      <th>Tumor Volume SEM</th>\n",
       "    </tr>\n",
       "  </thead>\n",
       "  <tbody>\n",
       "    <tr>\n",
       "      <th>0</th>\n",
       "      <td>Ramicane</td>\n",
       "      <td>40.22</td>\n",
       "      <td>40.67</td>\n",
       "      <td>23.38</td>\n",
       "      <td>4.84</td>\n",
       "      <td>0.32</td>\n",
       "    </tr>\n",
       "    <tr>\n",
       "      <th>1</th>\n",
       "      <td>Capomulin</td>\n",
       "      <td>40.68</td>\n",
       "      <td>41.56</td>\n",
       "      <td>24.84</td>\n",
       "      <td>4.98</td>\n",
       "      <td>0.33</td>\n",
       "    </tr>\n",
       "    <tr>\n",
       "      <th>8</th>\n",
       "      <td>Propriva</td>\n",
       "      <td>52.32</td>\n",
       "      <td>50.85</td>\n",
       "      <td>42.09</td>\n",
       "      <td>6.49</td>\n",
       "      <td>0.51</td>\n",
       "    </tr>\n",
       "    <tr>\n",
       "      <th>4</th>\n",
       "      <td>Ceftamin</td>\n",
       "      <td>52.59</td>\n",
       "      <td>51.78</td>\n",
       "      <td>39.07</td>\n",
       "      <td>6.25</td>\n",
       "      <td>0.47</td>\n",
       "    </tr>\n",
       "    <tr>\n",
       "      <th>2</th>\n",
       "      <td>Infubinol</td>\n",
       "      <td>52.88</td>\n",
       "      <td>51.82</td>\n",
       "      <td>42.89</td>\n",
       "      <td>6.55</td>\n",
       "      <td>0.49</td>\n",
       "    </tr>\n",
       "    <tr>\n",
       "      <th>6</th>\n",
       "      <td>Zoniferol</td>\n",
       "      <td>53.24</td>\n",
       "      <td>51.82</td>\n",
       "      <td>48.27</td>\n",
       "      <td>6.95</td>\n",
       "      <td>0.52</td>\n",
       "    </tr>\n",
       "    <tr>\n",
       "      <th>3</th>\n",
       "      <td>Placebo</td>\n",
       "      <td>54.03</td>\n",
       "      <td>52.29</td>\n",
       "      <td>60.83</td>\n",
       "      <td>7.80</td>\n",
       "      <td>0.58</td>\n",
       "    </tr>\n",
       "    <tr>\n",
       "      <th>5</th>\n",
       "      <td>Stelasyn</td>\n",
       "      <td>54.23</td>\n",
       "      <td>52.43</td>\n",
       "      <td>59.12</td>\n",
       "      <td>7.69</td>\n",
       "      <td>0.57</td>\n",
       "    </tr>\n",
       "    <tr>\n",
       "      <th>9</th>\n",
       "      <td>Naftisol</td>\n",
       "      <td>54.33</td>\n",
       "      <td>52.51</td>\n",
       "      <td>65.82</td>\n",
       "      <td>8.11</td>\n",
       "      <td>0.60</td>\n",
       "    </tr>\n",
       "    <tr>\n",
       "      <th>7</th>\n",
       "      <td>Ketapril</td>\n",
       "      <td>55.24</td>\n",
       "      <td>53.70</td>\n",
       "      <td>68.19</td>\n",
       "      <td>8.26</td>\n",
       "      <td>0.60</td>\n",
       "    </tr>\n",
       "  </tbody>\n",
       "</table>\n",
       "</div>"
      ],
      "text/plain": [
       "  Drug Regimen  Tumor Volume Mean(mm3)  Tumor Volume Median (mm3)  \\\n",
       "0     Ramicane                   40.22                      40.67   \n",
       "1    Capomulin                   40.68                      41.56   \n",
       "8     Propriva                   52.32                      50.85   \n",
       "4     Ceftamin                   52.59                      51.78   \n",
       "2    Infubinol                   52.88                      51.82   \n",
       "6    Zoniferol                   53.24                      51.82   \n",
       "3      Placebo                   54.03                      52.29   \n",
       "5     Stelasyn                   54.23                      52.43   \n",
       "9     Naftisol                   54.33                      52.51   \n",
       "7     Ketapril                   55.24                      53.70   \n",
       "\n",
       "   Tumor Volume Variance  Tumor Volume StDev  Tumor Volume SEM  \n",
       "0                  23.38                4.84              0.32  \n",
       "1                  24.84                4.98              0.33  \n",
       "8                  42.09                6.49              0.51  \n",
       "4                  39.07                6.25              0.47  \n",
       "2                  42.89                6.55              0.49  \n",
       "6                  48.27                6.95              0.52  \n",
       "3                  60.83                7.80              0.58  \n",
       "5                  59.12                7.69              0.57  \n",
       "9                  65.82                8.11              0.60  \n",
       "7                  68.19                8.26              0.60  "
      ]
     },
     "execution_count": 5,
     "metadata": {},
     "output_type": "execute_result"
    }
   ],
   "source": [
    "# Generate a summary statistics table of mean, median, variance, standard deviation, and SEM \n",
    "# of the tumor volume for each regimen\n",
    "rami_mean = np.mean(ramicane_df['Tumor Volume (mm3)'])\n",
    "rami_median = np.median(ramicane_df['Tumor Volume (mm3)'])\n",
    "rami_var = np.var(ramicane_df['Tumor Volume (mm3)'])\n",
    "rami_std = np.std(ramicane_df['Tumor Volume (mm3)'])\n",
    "rami_sem = sem(ramicane_df['Tumor Volume (mm3)'])\n",
    "\n",
    "capo_mean = np.mean(capomulin_df['Tumor Volume (mm3)'])\n",
    "capo_median = np.median(capomulin_df['Tumor Volume (mm3)'])\n",
    "capo_var = np.var(capomulin_df['Tumor Volume (mm3)'])\n",
    "capo_std = np.std(capomulin_df['Tumor Volume (mm3)'])\n",
    "capo_sem = sem(capomulin_df['Tumor Volume (mm3)'])\n",
    "\n",
    "infu_mean = np.mean(infubinol_df['Tumor Volume (mm3)'])\n",
    "infu_median = np.median(infubinol_df['Tumor Volume (mm3)'])\n",
    "infu_var = np.var(infubinol_df['Tumor Volume (mm3)'])\n",
    "infu_std = np.std(infubinol_df['Tumor Volume (mm3)'])\n",
    "infu_sem = sem(infubinol_df['Tumor Volume (mm3)'])\n",
    "\n",
    "plac_mean = np.mean(placebo_df['Tumor Volume (mm3)'])\n",
    "plac_median = np.median(placebo_df['Tumor Volume (mm3)'])\n",
    "plac_var = np.var(placebo_df['Tumor Volume (mm3)'])\n",
    "plac_std = np.std(placebo_df['Tumor Volume (mm3)'])\n",
    "plac_sem = sem(placebo_df['Tumor Volume (mm3)'])\n",
    "\n",
    "ceft_mean = np.mean(ceftamin_df['Tumor Volume (mm3)'])\n",
    "ceft_median = np.median(ceftamin_df['Tumor Volume (mm3)'])\n",
    "ceft_var = np.var(ceftamin_df['Tumor Volume (mm3)'])\n",
    "ceft_std = np.std(ceftamin_df['Tumor Volume (mm3)'])\n",
    "ceft_sem = sem(ceftamin_df['Tumor Volume (mm3)'])\n",
    "\n",
    "stel_mean = np.mean(stelasyn_df['Tumor Volume (mm3)'])\n",
    "stel_median = np.median(stelasyn_df['Tumor Volume (mm3)'])\n",
    "stel_var = np.var(stelasyn_df['Tumor Volume (mm3)'])\n",
    "stel_std = np.std(stelasyn_df['Tumor Volume (mm3)'])\n",
    "stel_sem = sem(stelasyn_df['Tumor Volume (mm3)'])\n",
    "\n",
    "zoni_mean = np.mean(zoniferol_df['Tumor Volume (mm3)'])\n",
    "zoni_median = np.median(zoniferol_df['Tumor Volume (mm3)'])\n",
    "zoni_var = np.var(zoniferol_df['Tumor Volume (mm3)'])\n",
    "zoni_std = np.std(zoniferol_df['Tumor Volume (mm3)'])\n",
    "zoni_sem = sem(zoniferol_df['Tumor Volume (mm3)'])\n",
    "\n",
    "keta_mean = np.mean(ketapril_df['Tumor Volume (mm3)'])\n",
    "keta_median = np.median(ketapril_df['Tumor Volume (mm3)'])\n",
    "keta_var = np.var(ketapril_df['Tumor Volume (mm3)'])\n",
    "keta_std = np.std(ketapril_df['Tumor Volume (mm3)'])\n",
    "keta_sem = sem(ketapril_df['Tumor Volume (mm3)'])\n",
    "\n",
    "prop_mean = np.mean(propiva_df['Tumor Volume (mm3)'])\n",
    "prop_median = np.median(propiva_df['Tumor Volume (mm3)'])\n",
    "prop_var = np.var(propiva_df['Tumor Volume (mm3)'])\n",
    "prop_std = np.std(propiva_df['Tumor Volume (mm3)'])\n",
    "prop_sem = sem(propiva_df['Tumor Volume (mm3)'])\n",
    "\n",
    "naft_mean = np.mean(naftisol_df['Tumor Volume (mm3)'])\n",
    "naft_median = np.median(naftisol_df['Tumor Volume (mm3)'])\n",
    "naft_var = np.var(naftisol_df['Tumor Volume (mm3)'])\n",
    "naft_std = np.std(naftisol_df['Tumor Volume (mm3)'])\n",
    "naft_sem = sem(naftisol_df['Tumor Volume (mm3)'])\n",
    "\n",
    "summary_df = pd.DataFrame({\n",
    "    \"Drug Regimen\" : drg_regimen,\n",
    "    \"Tumor Volume Mean(mm3)\" : [rami_mean, capo_mean, infu_mean, plac_mean, ceft_mean, stel_mean, zoni_mean, keta_mean, prop_mean, naft_mean],\n",
    "    \"Tumor Volume Median (mm3)\" : [rami_median, capo_median, infu_median, plac_median, ceft_median, stel_median, zoni_median, keta_median, prop_median, naft_median],\n",
    "    \"Tumor Volume Variance\" : [rami_var, capo_var, infu_var, plac_var, ceft_var, stel_var, zoni_var, keta_var, prop_var, naft_var],\n",
    "    \"Tumor Volume StDev\" : [rami_std, capo_std, infu_std, plac_std, ceft_std, stel_std, zoni_std, keta_std, prop_std, naft_std],\n",
    "    \"Tumor Volume SEM\" : [rami_sem, capo_sem, infu_sem, plac_sem, ceft_sem, stel_sem, zoni_sem, keta_sem, prop_sem, naft_sem]}\n",
    ")\n",
    "#print df and sort to identify the best results based on tumor volumen mean\n",
    "summary_df.round(2).sort_values('Tumor Volume Mean(mm3)')"
   ]
  },
  {
   "cell_type": "markdown",
   "metadata": {},
   "source": [
    "## Bar plots"
   ]
  },
  {
   "cell_type": "code",
   "execution_count": 6,
   "metadata": {},
   "outputs": [],
   "source": [
    "# Generate a bar plot showing number of data points for each treatment regimen using pandas\n",
    "# Ambiguos questions "
   ]
  },
  {
   "cell_type": "code",
   "execution_count": 7,
   "metadata": {},
   "outputs": [
    {
     "data": {
      "image/png": "[encoded data removed]",
      "text/plain": [
       "<Figure size 1440x432 with 1 Axes>"
      ]
     },
     "metadata": {
      "needs_background": "light"
     },
     "output_type": "display_data"
    },
    {
     "data": {
      "text/plain": [
       "<Figure size 432x288 with 0 Axes>"
      ]
     },
     "metadata": {},
     "output_type": "display_data"
    }
   ],
   "source": [
    "# Generate a bar plot showing number of data points for each treatment regimen using pandas\n",
    "#Set my data points to mean each one of the experiments and groupby Drug Regimen\n",
    "data_points_grp = pharma_df.groupby([\"Drug Regimen\"])\n",
    "#Count the experiemnts performed with each drug regimen using 'Mouse ID'\n",
    "mice_grp_df = data_points_grp.count()['Mouse ID']\n",
    "# Plot with Pandas DataFrame.Plot multiplot \n",
    "multi_plot = mice_grp_df.plot(kind=\"bar\", figsize=(20,6), rot = 0)\n",
    "plt.title(\"Fig 1. Group Size of Study of Effects of Different Drug Regimens on Tumor Volumen Growth in Mice.\")\n",
    "multi_plot.set_ylabel('Number of Individuals')\n",
    "plt.show()\n",
    "plt.tight_layout()"
   ]
  },
  {
   "cell_type": "markdown",
   "metadata": {},
   "source": [
    "## Pie plots"
   ]
  },
  {
   "cell_type": "code",
   "execution_count": 8,
   "metadata": {},
   "outputs": [
    {
     "data": {
      "image/png": "[encoded data removed]",
      "text/plain": [
       "<Figure size 432x288 with 1 Axes>"
      ]
     },
     "metadata": {},
     "output_type": "display_data"
    }
   ],
   "source": [
    "#groupby sex\n",
    "sex_grp = pharma_df.groupby(['Sex'])\n",
    "sex_grp_count = sex_grp.count()['Mouse ID']\n",
    "drg_sex_pie = sex_grp_count.plot(kind=\"pie\", autopct=\"%1.1f%%\", \\\n",
    "                                 title=(\"Fig 2. Distribution of Mice Sex Treated\"))\n",
    "drg_sex_pie.set_ylabel(\"Distribution by Sex\")\n",
    "\n",
    "plt.show()"
   ]
  },
  {
   "cell_type": "code",
   "execution_count": 9,
   "metadata": {},
   "outputs": [],
   "source": [
    "# Generate a pie plot showing the distribution of female versus male mice using pandas\n",
    "# comment to trilogy: ambiguity of the question..."
   ]
  },
  {
   "cell_type": "markdown",
   "metadata": {},
   "source": [
    "## Quartiles, outliers and boxplots"
   ]
  },
  {
   "cell_type": "code",
   "execution_count": 12,
   "metadata": {},
   "outputs": [
    {
     "name": "stdout",
     "output_type": "stream",
     "text": [
      "The IQR is: 10.136299842500001\n",
      "The lower quartile is: 40.2201707875\n",
      "The upper quartile is: 50.356470630000004\n",
      "The interquartile range is: 10.136299842500001\n",
      "The the median is: 45.0 \n",
      "Values below 25.01572102375 mm3 could be outliers.\n",
      "Values above 65.56092039375001 mm3 could be outliers.\n"
     ]
    }
   ],
   "source": [
    "# Calculate the final tumor volume of each mouse across four of the most promising treatment regimens. \n",
    "# Calculate the IQR and quantitatively determine if there are any potential outliers.\n",
    "# Create a df of the four top treatments based on smallest tumor volumen mean\n",
    "top_four_df = pd.concat([ramicane_df, capomulin_df, infubinol_df, ceftamin_df], ignore_index=True)\n",
    "#Create a variable to alocate the tumor volume\n",
    "tumors = top_four_df['Tumor Volume (mm3)']\n",
    "#Calculate IQR\n",
    "quartiles = tumors.quantile([.25,.5,.75])\n",
    "lowerq = quartiles[0.25]\n",
    "upperq = quartiles[0.75]\n",
    "iqr = upperq-lowerq\n",
    "\n",
    "print(f\"The IQR is: {iqr}\")\n",
    "print(f\"The lower quartile is: {lowerq}\")\n",
    "print(f\"The upper quartile is: {upperq}\")\n",
    "print(f\"The interquartile range is: {iqr}\")\n",
    "print(f\"The the median is: {quartiles[0.5]} \")\n",
    "\n",
    "lower_bound = lowerq - (1.5*iqr)\n",
    "upper_bound = upperq + (1.5*iqr)\n",
    "print(f\"Values below {lower_bound} mm3 could be outliers.\")\n",
    "print(f\"Values above {upper_bound} mm3 could be outliers.\")\n",
    "                                     "
   ]
  },
  {
   "cell_type": "code",
   "execution_count": 15,
   "metadata": {},
   "outputs": [
    {
     "data": {
      "image/png": "[encoded data removed]",
      "text/plain": [
       "<Figure size 432x288 with 1 Axes>"
      ]
     },
     "metadata": {
      "needs_background": "light"
     },
     "output_type": "display_data"
    }
   ],
   "source": [
    "# Generate a box plot of the final tumor volume of each mouse across four regimens of interest\n",
    "\n",
    "fig1, ax1 = plt.subplots()\n",
    "ax1.set_title('Tumor Volumen (mm3)')\n",
    "ax1.set_ylabel('Volume (mm3)')\n",
    "ax1.boxplot(tumors)\n",
    "plt.show()"
   ]
  },
  {
   "cell_type": "markdown",
   "metadata": {},
   "source": [
    "## Line and scatter plots"
   ]
  },
  {
   "cell_type": "code",
   "execution_count": 26,
   "metadata": {},
   "outputs": [
    {
     "data": {
      "image/png": "[encoded data removed]",
      "text/plain": [
       "<Figure size 432x288 with 1 Axes>"
      ]
     },
     "metadata": {
      "needs_background": "light"
     },
     "output_type": "display_data"
    }
   ],
   "source": [
    "# Generate a line plot of time point versus tumor volume for a mouse treated with Capomulin\n",
    "#Create variables and parameteers for the plot\n",
    "mouse_s185_df = pd.DataFrame(capomulin_df.loc[capomulin_df[\"Mouse ID\"] == 's185'])\n",
    "volume_tumor = pd.DataFrame(mouse_s185_df['Tumor Volume (mm3)'])\n",
    "time_period = mouse_s185_df['Timepoint']\n",
    "\n",
    "# Plot line over the years\n",
    "plt.plot(time_period, volume_tumor, color=\"green\", label=\"Tumor Volume (mm3)\")\n",
    "\n",
    "plt.legend(loc=\"best\")\n",
    "\n",
    "plt.title(\"Effects of Capumulin on Tumor Volume over Time.\")\n",
    "plt.xlabel(\"Time\")\n",
    "plt.ylabel(\"Volume (mm3)\")\n",
    "\n",
    "# Print chart to the screen\n",
    "plt.show()"
   ]
  },
  {
   "cell_type": "code",
   "execution_count": 24,
   "metadata": {},
   "outputs": [
    {
     "data": {
      "image/png": "[encoded data removed]",
      "text/plain": [
       "<Figure size 432x288 with 1 Axes>"
      ]
     },
     "metadata": {
      "needs_background": "light"
     },
     "output_type": "display_data"
    }
   ],
   "source": [
    "# Generate a scatter plot of mouse weight versus average tumor volume for the Capomulin regimen\n",
    "\n",
    "plt.scatter(capomulin_df['Weight (g)'],capomulin_df['Tumor Volume (mm3)'],marker=\"o\", facecolors=\"red\", edgecolors=\"black\")\n",
    "plt.xlabel(\"Weight (g)\")\n",
    "plt.ylabel(\"Volume (mm3)\")\n",
    "plt.ylim(20,50)\n",
    "plt.xlim(14,28)\n",
    "plt.title(\"Relation of Weight vs Tumor Volume in Mice under Capomulin Regimen.\")\n",
    "plt.xlabel(\"Weight (g)\")\n",
    "plt.ylabel(\"Tumor Volume (mm3)\")\n",
    "plt.show()\n"
   ]
  },
  {
   "cell_type": "code",
   "execution_count": 18,
   "metadata": {},
   "outputs": [],
   "source": [
    "# Calculate the correlation coefficient and linear regression model for mouse weight and average tumor volume for the Capomulin regimen"
   ]
  },
  {
   "cell_type": "code",
   "execution_count": null,
   "metadata": {},
   "outputs": [],
   "source": []
  }
 ],
 "metadata": {
  "anaconda-cloud": {},
  "kernelspec": {
   "display_name": "Python 3",
   "language": "python",
   "name": "python3"
  },
  "language_info": {
   "codemirror_mode": {
    "name": "ipython",
    "version": 3
   },
   "file_extension": ".py",
   "mimetype": "text/x-python",
   "name": "python",
   "nbconvert_exporter": "python",
   "pygments_lexer": "ipython3",
   "version": "3.6.10"
  }
 },
 "nbformat": 4,
 "nbformat_minor": 2
}
