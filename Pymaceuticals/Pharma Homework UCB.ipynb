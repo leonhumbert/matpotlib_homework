{
 "cells": [
  {
   "cell_type": "markdown",
   "metadata": {},
   "source": [
    "## Observations and Insights"
   ]
  },
  {
   "cell_type": "markdown",
   "metadata": {},
   "source": [
    "#### - Mice treated with ramicane, capomulin, propriva, ceftamin and infubinol showed the lower growth in tumor volumen during the experiment.\n",
    "#### - Data was obtained from mice composed of 49.4% female and 50.6% male.\n",
    "#### - Effects of the capomulin regimen between weight and tumor volumen was inconclusive. Although a correlation coefficient at 0.53 was obtained,  timepoint when the mice weight was recorded is not available rendering inconclusive."
   ]
  },
  {
   "cell_type": "markdown",
   "metadata": {},
   "source": [
    "## Dependencies and starter code"
   ]
  },
  {
   "cell_type": "code",
   "execution_count": 1,
   "metadata": {},
   "outputs": [],
   "source": [
    "# Dependencies and Setup\n",
    "\n",
    "import matplotlib.pyplot as plt\n",
    "from matplotlib.pyplot import figure\n",
    "import pandas as pd\n",
    "import scipy.stats as st\n",
    "import numpy as np\n",
    "from scipy.stats import sem\n",
    "\n",
    "# Study data files\n",
    "mouse_metadata = \"data/Mouse_metadata.csv\"\n",
    "study_results = \"data/Study_results.csv\"\n",
    "\n",
    "# Read the mouse data and the study results\n",
    "mouse_metadata = pd.read_csv(mouse_metadata)\n",
    "study_results = pd.read_csv(study_results)\n"
   ]
  },
  {
   "cell_type": "markdown",
   "metadata": {},
   "source": [
    "\n",
    "## Tasks"
   ]
  },
  {
   "cell_type": "code",
   "execution_count": 2,
   "metadata": {},
   "outputs": [],
   "source": [
    "#Combine the data into a single dataset\n",
    "pharma_df = pd.merge(mouse_metadata, study_results, how=\"left\", on=[\"Mouse ID\", \"Mouse ID\"])"
   ]
  },
  {
   "cell_type": "code",
   "execution_count": 3,
   "metadata": {},
   "outputs": [
    {
     "name": "stdout",
     "output_type": "stream",
     "text": [
      "['Ramicane', 'Capomulin', 'Infubinol', 'Placebo', 'Ceftamin', 'Stelasyn', 'Zoniferol', 'Ketapril', 'Propriva', 'Naftisol']\n"
     ]
    }
   ],
   "source": [
    "#make a list of my drug regimens bc I am going to use it all over the exercise\n",
    "drg_regimen = pharma_df[\"Drug Regimen\"].unique().tolist()\n",
    "print(drg_regimen)"
   ]
  },
  {
   "cell_type": "code",
   "execution_count": 4,
   "metadata": {},
   "outputs": [],
   "source": [
    "#Create df for each drug regimen filtering with .loc\n",
    "ramicane_df = pd.DataFrame(pharma_df.loc[pharma_df[\"Drug Regimen\"] == 'Ramicane'])\n",
    "capomulin_df = pd.DataFrame(pharma_df.loc[pharma_df[\"Drug Regimen\"] == 'Capomulin'])\n",
    "infubinol_df = pd.DataFrame(pharma_df.loc[pharma_df[\"Drug Regimen\"] == 'Infubinol'])\n",
    "placebo_df = pd.DataFrame(pharma_df.loc[pharma_df[\"Drug Regimen\"] == 'Placebo'])\n",
    "ceftamin_df = pd.DataFrame(pharma_df.loc[pharma_df[\"Drug Regimen\"] == 'Ceftamin'])\n",
    "stelasyn_df = pd.DataFrame(pharma_df.loc[pharma_df[\"Drug Regimen\"] == 'Stelasyn'])\n",
    "zoniferol_df = pd.DataFrame(pharma_df.loc[pharma_df[\"Drug Regimen\"] == 'Zoniferol'])\n",
    "ketapril_df = pd.DataFrame(pharma_df.loc[pharma_df[\"Drug Regimen\"] == 'Ketapril'])\n",
    "propiva_df = pd.DataFrame(pharma_df.loc[pharma_df[\"Drug Regimen\"] == 'Propriva'])\n",
    "naftisol_df = pd.DataFrame(pharma_df.loc[pharma_df[\"Drug Regimen\"] == 'Naftisol'])"
   ]
  },
  {
   "cell_type": "markdown",
   "metadata": {},
   "source": [
    "## Summary statistics"
   ]
  },
  {
   "cell_type": "code",
   "execution_count": 5,
   "metadata": {},
   "outputs": [
    {
     "data": {
      "text/html": [
       "<div>\n",
       "<style scoped>\n",
       "    .dataframe tbody tr th:only-of-type {\n",
       "        vertical-align: middle;\n",
       "    }\n",
       "\n",
       "    .dataframe tbody tr th {\n",
       "        vertical-align: top;\n",
       "    }\n",
       "\n",
       "    .dataframe thead th {\n",
       "        text-align: right;\n",
       "    }\n",
       "</style>\n",
       "<table border=\"1\" class=\"dataframe\">\n",
       "  <thead>\n",
       "    <tr style=\"text-align: right;\">\n",
       "      <th></th>\n",
       "      <th>Drug Regimen</th>\n",
       "      <th>Tumor Volume Mean(mm3)</th>\n",
       "      <th>Tumor Volume Median (mm3)</th>\n",
       "      <th>Tumor Volume Variance</th>\n",
       "      <th>Tumor Volume StDev</th>\n",
       "      <th>Tumor Volume SEM</th>\n",
       "    </tr>\n",
       "  </thead>\n",
       "  <tbody>\n",
       "    <tr>\n",
       "      <th>0</th>\n",
       "      <td>Ramicane</td>\n",
       "      <td>40.22</td>\n",
       "      <td>40.67</td>\n",
       "      <td>23.38</td>\n",
       "      <td>4.84</td>\n",
       "      <td>0.32</td>\n",
       "    </tr>\n",
       "    <tr>\n",
       "      <th>1</th>\n",
       "      <td>Capomulin</td>\n",
       "      <td>40.68</td>\n",
       "      <td>41.56</td>\n",
       "      <td>24.84</td>\n",
       "      <td>4.98</td>\n",
       "      <td>0.33</td>\n",
       "    </tr>\n",
       "    <tr>\n",
       "      <th>8</th>\n",
       "      <td>Propriva</td>\n",
       "      <td>52.32</td>\n",
       "      <td>50.85</td>\n",
       "      <td>42.09</td>\n",
       "      <td>6.49</td>\n",
       "      <td>0.51</td>\n",
       "    </tr>\n",
       "    <tr>\n",
       "      <th>4</th>\n",
       "      <td>Ceftamin</td>\n",
       "      <td>52.59</td>\n",
       "      <td>51.78</td>\n",
       "      <td>39.07</td>\n",
       "      <td>6.25</td>\n",
       "      <td>0.47</td>\n",
       "    </tr>\n",
       "    <tr>\n",
       "      <th>2</th>\n",
       "      <td>Infubinol</td>\n",
       "      <td>52.88</td>\n",
       "      <td>51.82</td>\n",
       "      <td>42.89</td>\n",
       "      <td>6.55</td>\n",
       "      <td>0.49</td>\n",
       "    </tr>\n",
       "  </tbody>\n",
       "</table>\n",
       "</div>"
      ],
      "text/plain": [
       "  Drug Regimen  Tumor Volume Mean(mm3)  Tumor Volume Median (mm3)  \\\n",
       "0     Ramicane                   40.22                      40.67   \n",
       "1    Capomulin                   40.68                      41.56   \n",
       "8     Propriva                   52.32                      50.85   \n",
       "4     Ceftamin                   52.59                      51.78   \n",
       "2    Infubinol                   52.88                      51.82   \n",
       "\n",
       "   Tumor Volume Variance  Tumor Volume StDev  Tumor Volume SEM  \n",
       "0                  23.38                4.84              0.32  \n",
       "1                  24.84                4.98              0.33  \n",
       "8                  42.09                6.49              0.51  \n",
       "4                  39.07                6.25              0.47  \n",
       "2                  42.89                6.55              0.49  "
      ]
     },
     "execution_count": 5,
     "metadata": {},
     "output_type": "execute_result"
    }
   ],
   "source": [
    "# Generate a summary statistics table of mean, median, variance, standard deviation, and SEM \n",
    "# of the tumor volume for each regimen\n",
    "rami_mean = np.mean(ramicane_df['Tumor Volume (mm3)'])\n",
    "rami_median = np.median(ramicane_df['Tumor Volume (mm3)'])\n",
    "rami_var = np.var(ramicane_df['Tumor Volume (mm3)'])\n",
    "rami_std = np.std(ramicane_df['Tumor Volume (mm3)'])\n",
    "rami_sem = sem(ramicane_df['Tumor Volume (mm3)'])\n",
    "\n",
    "capo_mean = np.mean(capomulin_df['Tumor Volume (mm3)'])\n",
    "capo_median = np.median(capomulin_df['Tumor Volume (mm3)'])\n",
    "capo_var = np.var(capomulin_df['Tumor Volume (mm3)'])\n",
    "capo_std = np.std(capomulin_df['Tumor Volume (mm3)'])\n",
    "capo_sem = sem(capomulin_df['Tumor Volume (mm3)'])\n",
    "\n",
    "infu_mean = np.mean(infubinol_df['Tumor Volume (mm3)'])\n",
    "infu_median = np.median(infubinol_df['Tumor Volume (mm3)'])\n",
    "infu_var = np.var(infubinol_df['Tumor Volume (mm3)'])\n",
    "infu_std = np.std(infubinol_df['Tumor Volume (mm3)'])\n",
    "infu_sem = sem(infubinol_df['Tumor Volume (mm3)'])\n",
    "\n",
    "plac_mean = np.mean(placebo_df['Tumor Volume (mm3)'])\n",
    "plac_median = np.median(placebo_df['Tumor Volume (mm3)'])\n",
    "plac_var = np.var(placebo_df['Tumor Volume (mm3)'])\n",
    "plac_std = np.std(placebo_df['Tumor Volume (mm3)'])\n",
    "plac_sem = sem(placebo_df['Tumor Volume (mm3)'])\n",
    "\n",
    "ceft_mean = np.mean(ceftamin_df['Tumor Volume (mm3)'])\n",
    "ceft_median = np.median(ceftamin_df['Tumor Volume (mm3)'])\n",
    "ceft_var = np.var(ceftamin_df['Tumor Volume (mm3)'])\n",
    "ceft_std = np.std(ceftamin_df['Tumor Volume (mm3)'])\n",
    "ceft_sem = sem(ceftamin_df['Tumor Volume (mm3)'])\n",
    "\n",
    "stel_mean = np.mean(stelasyn_df['Tumor Volume (mm3)'])\n",
    "stel_median = np.median(stelasyn_df['Tumor Volume (mm3)'])\n",
    "stel_var = np.var(stelasyn_df['Tumor Volume (mm3)'])\n",
    "stel_std = np.std(stelasyn_df['Tumor Volume (mm3)'])\n",
    "stel_sem = sem(stelasyn_df['Tumor Volume (mm3)'])\n",
    "\n",
    "zoni_mean = np.mean(zoniferol_df['Tumor Volume (mm3)'])\n",
    "zoni_median = np.median(zoniferol_df['Tumor Volume (mm3)'])\n",
    "zoni_var = np.var(zoniferol_df['Tumor Volume (mm3)'])\n",
    "zoni_std = np.std(zoniferol_df['Tumor Volume (mm3)'])\n",
    "zoni_sem = sem(zoniferol_df['Tumor Volume (mm3)'])\n",
    "\n",
    "keta_mean = np.mean(ketapril_df['Tumor Volume (mm3)'])\n",
    "keta_median = np.median(ketapril_df['Tumor Volume (mm3)'])\n",
    "keta_var = np.var(ketapril_df['Tumor Volume (mm3)'])\n",
    "keta_std = np.std(ketapril_df['Tumor Volume (mm3)'])\n",
    "keta_sem = sem(ketapril_df['Tumor Volume (mm3)'])\n",
    "\n",
    "prop_mean = np.mean(propiva_df['Tumor Volume (mm3)'])\n",
    "prop_median = np.median(propiva_df['Tumor Volume (mm3)'])\n",
    "prop_var = np.var(propiva_df['Tumor Volume (mm3)'])\n",
    "prop_std = np.std(propiva_df['Tumor Volume (mm3)'])\n",
    "prop_sem = sem(propiva_df['Tumor Volume (mm3)'])\n",
    "\n",
    "naft_mean = np.mean(naftisol_df['Tumor Volume (mm3)'])\n",
    "naft_median = np.median(naftisol_df['Tumor Volume (mm3)'])\n",
    "naft_var = np.var(naftisol_df['Tumor Volume (mm3)'])\n",
    "naft_std = np.std(naftisol_df['Tumor Volume (mm3)'])\n",
    "naft_sem = sem(naftisol_df['Tumor Volume (mm3)'])\n",
    "\n",
    "summary_df = pd.DataFrame({\n",
    "    \"Drug Regimen\" : drg_regimen,\n",
    "    \"Tumor Volume Mean(mm3)\" : [rami_mean, capo_mean, infu_mean, plac_mean, ceft_mean, stel_mean, zoni_mean, keta_mean, prop_mean, naft_mean],\n",
    "    \"Tumor Volume Median (mm3)\" : [rami_median, capo_median, infu_median, plac_median, ceft_median, stel_median, zoni_median, keta_median, prop_median, naft_median],\n",
    "    \"Tumor Volume Variance\" : [rami_var, capo_var, infu_var, plac_var, ceft_var, stel_var, zoni_var, keta_var, prop_var, naft_var],\n",
    "    \"Tumor Volume StDev\" : [rami_std, capo_std, infu_std, plac_std, ceft_std, stel_std, zoni_std, keta_std, prop_std, naft_std],\n",
    "    \"Tumor Volume SEM\" : [rami_sem, capo_sem, infu_sem, plac_sem, ceft_sem, stel_sem, zoni_sem, keta_sem, prop_sem, naft_sem]}\n",
    ")\n",
    "#print df and sort to identify the best results based on tumor volumen mean\n",
    "summary_df.round(2).sort_values('Tumor Volume Mean(mm3)').head(5)"
   ]
  },
  {
   "cell_type": "markdown",
   "metadata": {},
   "source": [
    "## Bar plots"
   ]
  },
  {
   "cell_type": "code",
   "execution_count": 6,
   "metadata": {},
   "outputs": [],
   "source": [
    "# Generate a bar plot showing number of data points for each treatment regimen using pandas\n",
    "# Ambiguos questions "
   ]
  },
  {
   "cell_type": "code",
   "execution_count": 7,
   "metadata": {},
   "outputs": [
    {
     "data": {
      "image/png": "[encoded data removed]",
      "text/plain": [
       "<Figure size 1440x432 with 1 Axes>"
      ]
     },
     "metadata": {
      "needs_background": "light"
     },
     "output_type": "display_data"
    }
   ],
   "source": [
    "# Generate a bar plot showing number of data points for each treatment regimen using pandas\n",
    "#Set my data points to mean each one of the experiments and groupby Drug Regimen\n",
    "data_points_grp = pharma_df.groupby([\"Drug Regimen\"])\n",
    "#Count the experiemnts performed with each drug regimen using 'Mouse ID'\n",
    "mice_grp_df = data_points_grp.count()['Mouse ID']\n",
    "# Plot with Pandas DataFrame.Plot multiplot \n",
    "multi_plot = mice_grp_df.plot(kind=\"bar\", figsize=(20,6), rot = 0, color='b')\n",
    "plt.title(\"Fig 1. Group Size of Study of Effects of Different Drug Regimens on Tumor Volumen Growth in Mice.\")\n",
    "multi_plot.set_ylabel('Number of Individuals')\n",
    "plt.show()\n",
    "#plt.tight_layout()"
   ]
  },
  {
   "cell_type": "code",
   "execution_count": 51,
   "metadata": {},
   "outputs": [
    {
     "data": {
      "image/png": "[encoded data removed]",
      "text/plain": [
       "<Figure size 1440x432 with 1 Axes>"
      ]
     },
     "metadata": {
      "needs_background": "light"
     },
     "output_type": "display_data"
    },
    {
     "data": {
      "text/plain": [
       "<Figure size 432x288 with 0 Axes>"
      ]
     },
     "metadata": {},
     "output_type": "display_data"
    }
   ],
   "source": [
    "# Generate a bar plot showing number of data points for each treatment regimen using pyplot\n",
    "#Set my data points to mean each one of the experiments and groupby Drug Regimen\n",
    "#Set data\n",
    "data_points_grp = pharma_df.groupby([\"Drug Regimen\"])\n",
    "mice_grp_df = data_points_grp.count()['Mouse ID'] \n",
    "y_regimes = [\"Capomulin\", \"Ceftamin\", \"Infubinol\", \"Ketapril\", \"Naftisol\", \"Placebo\", \"Propriva\", \\\n",
    "                           \"Rumicane\", \"Stelasyn\", \"Zoniferol\"]\n",
    "\n",
    "#set x_axis, title, and labels for x and y\n",
    "x_axis = np.arange(0, len(mice_grp_df))\n",
    "plt.figure(figsize=(20,6))\n",
    "#set title, and labels for x and y \n",
    "plt.title(\"Fig 1. Group Size of Study of Effects of Different Drug Regimens on Tumor Volumen Growth in Mice.\")\n",
    "plt.xlabel(\"Drug Regimens\")\n",
    "plt.ylabel('Number of Individuals')\n",
    "\n",
    "\n",
    "#set limits for x and y\n",
    "plt.xlim(-.5, len(data_points_grp)-.5)\n",
    "plt.ylim(0, max(mice_grp_df) + 10)\n",
    "\n",
    "#set ticks_locations, and parameters for the bar\n",
    "tick_locations = []\n",
    "for x in x_axis:\n",
    "    tick_locations.append(x)\n",
    "plt.bar(x_axis, mice_grp_df, width=0.5, facecolor=\"blue\", align=\"center\")\n",
    "plt.xticks(tick_locations, y_regimes)\n",
    "\n",
    "plt.show()\n",
    "plt.tight_layout()"
   ]
  },
  {
   "cell_type": "markdown",
   "metadata": {},
   "source": [
    "## Pie plots"
   ]
  },
  {
   "cell_type": "code",
   "execution_count": 9,
   "metadata": {},
   "outputs": [
    {
     "data": {
      "image/png": "[encoded data removed]",
      "text/plain": [
       "<Figure size 432x288 with 1 Axes>"
      ]
     },
     "metadata": {},
     "output_type": "display_data"
    }
   ],
   "source": [
    "# Generate a pie plot showing the distribution of female versus male mice using pandas\n",
    "#groupby sex\n",
    "sex_grp = pharma_df.groupby(['Sex'])\n",
    "sex_grp_count = sex_grp.count()['Mouse ID']\n",
    "drg_sex_pie = sex_grp_count.plot(kind=\"pie\", autopct=\"%1.1f%%\", \\\n",
    "                                 title=(\"Fig 2. Distribution of Mice Sex Treated\"))\n",
    "drg_sex_pie.set_ylabel(None)\n",
    "plt.show()"
   ]
  },
  {
   "cell_type": "code",
   "execution_count": 10,
   "metadata": {},
   "outputs": [
    {
     "data": {
      "image/png": "[encoded data removed]",
      "text/plain": [
       "<Figure size 432x288 with 1 Axes>"
      ]
     },
     "metadata": {},
     "output_type": "display_data"
    }
   ],
   "source": [
    "# Generate a pie plot showing the distribution of female versus male mice using pyplot\n",
    "#set my data and labels\n",
    "sex_grp = pharma_df.groupby(['Sex'])\n",
    "sex_grp_count = sex_grp.count()['Mouse ID']\n",
    "sex_grp_count.unique().tolist()\n",
    "labels = [\"Female\", \"Male\"]\n",
    "#set tile, pie parameters, and y label \n",
    "plt.rcParams['font.size'] = 12.0\n",
    "plt.title(\"Fig 2. Distribution of Mice Sex Treated\")\n",
    "plt.pie(sex_grp_count, labels = labels, autopct=\"%1.1f%%\",\\\n",
    "        shadow=False, startangle=0, textprops={'fontsize': 11})\n",
    "plt.axis(\"equal\")\n",
    "plt.show()"
   ]
  },
  {
   "cell_type": "markdown",
   "metadata": {},
   "source": [
    "## Quartiles, outliers and boxplots"
   ]
  },
  {
   "cell_type": "code",
   "execution_count": 11,
   "metadata": {},
   "outputs": [],
   "source": [
    "# Create a df of the tumor volumen for each treatments of the best four\n",
    "# performer based on smallest tumor volumen mean\n",
    "ramicane_tv = ramicane_df['Tumor Volume (mm3)']\n",
    "capomulin_tv = capomulin_df['Tumor Volume (mm3)']\n",
    "infubinol_tv = infubinol_df['Tumor Volume (mm3)']\n",
    "ceftamin_tv = ceftamin_df['Tumor Volume (mm3)']"
   ]
  },
  {
   "cell_type": "code",
   "execution_count": 39,
   "metadata": {
    "scrolled": true
   },
   "outputs": [
    {
     "name": "stdout",
     "output_type": "stream",
     "text": [
      "The IQR of ramicane is: 8.325365415000007\n",
      "The lower quartile is: 36.67463458499999\n",
      "The upper quartile is: 45.0\n",
      "The interquartile range is: 8.325365415000007\n",
      "The the median is: 40.67323554 \n",
      "Values below 24.18658646249998 mm3 could be outliers.\n",
      "Values above 57.48804812250001 mm3 could be outliers.\n",
      "There are 1 outliers.\n"
     ]
    }
   ],
   "source": [
    "#calculate IQR for each treatment\n",
    "ramicane_df\n",
    "tumors = ramicane_df['Tumor Volume (mm3)']\n",
    "quartiles = tumors.quantile([.25,.5,.75])\n",
    "lowerq = quartiles[0.25]\n",
    "upperq = quartiles[0.75]\n",
    "iqr = upperq-lowerq\n",
    "print(f\"The IQR of ramicane is: {iqr}\")\n",
    "print(f\"The lower quartile is: {lowerq}\")\n",
    "print(f\"The upper quartile is: {upperq}\")\n",
    "print(f\"The interquartile range is: {iqr}\")\n",
    "print(f\"The the median is: {quartiles[0.5]} \")\n",
    "\n",
    "lower_bound = lowerq - (1.5*iqr)\n",
    "upper_bound = upperq + (1.5*iqr)\n",
    "print(f\"Values below {lower_bound} mm3 could be outliers.\")\n",
    "print(f\"Values above {upper_bound} mm3 could be outliers.\")\n",
    "outlier = ramicane_df[(tumors > upper_bound)\\\n",
    "                       |(tumors < lower_bound)].count()\n",
    "print(f'There are {outlier[\"Mouse ID\"]} outliers.')"
   ]
  },
  {
   "cell_type": "code",
   "execution_count": 40,
   "metadata": {},
   "outputs": [
    {
     "name": "stdout",
     "output_type": "stream",
     "text": [
      "The IQR of capomulin is: 7.314067135000002\n",
      "The lower quartile is: 37.685932865\n",
      "The upper quartile is: 45.0\n",
      "The interquartile range is: 7.314067135000002\n",
      "The the median is: 41.557808879999996 \n",
      "Values below 26.714832162499995 mm3 could be outliers.\n",
      "Values above 55.9711007025 mm3 could be outliers.\n",
      "There are 2 outliers.\n"
     ]
    }
   ],
   "source": [
    "capomulin_df\n",
    "tumors = capomulin_df['Tumor Volume (mm3)']\n",
    "quartiles = tumors.quantile([.25,.5,.75])\n",
    "lowerq = quartiles[0.25]\n",
    "upperq = quartiles[0.75]\n",
    "iqr = upperq-lowerq\n",
    "print(f\"The IQR of capomulin is: {iqr}\")\n",
    "print(f\"The lower quartile is: {lowerq}\")\n",
    "print(f\"The upper quartile is: {upperq}\")\n",
    "print(f\"The interquartile range is: {iqr}\")\n",
    "print(f\"The the median is: {quartiles[0.5]} \")\n",
    "\n",
    "lower_bound = lowerq - (1.5*iqr)\n",
    "upper_bound = upperq + (1.5*iqr)\n",
    "print(f\"Values below {lower_bound} mm3 could be outliers.\")\n",
    "print(f\"Values above {upper_bound} mm3 could be outliers.\")\n",
    "outlier = capomulin_df[(tumors > upper_bound)\\\n",
    "                       |(tumors < lower_bound)].count()\n",
    "print(f'There are {outlier[\"Mouse ID\"]} outliers.')"
   ]
  },
  {
   "cell_type": "code",
   "execution_count": 41,
   "metadata": {},
   "outputs": [
    {
     "name": "stdout",
     "output_type": "stream",
     "text": [
      "The IQR of infubinol is: 10.002090667500006\n",
      "The lower quartile is: 47.3123533\n",
      "The upper quartile is: 57.314443967500004\n",
      "The interquartile range is: 10.002090667500006\n",
      "The the median is: 51.82058438 \n",
      "Values below 32.309217298749985 mm3 could be outliers.\n",
      "Values above 72.31757996875001 mm3 could be outliers.\n",
      "There are 0 outliers.\n"
     ]
    }
   ],
   "source": [
    "infubinol_df\n",
    "tumors = infubinol_df['Tumor Volume (mm3)']\n",
    "quartiles = tumors.quantile([.25,.5,.75])\n",
    "lowerq = quartiles[0.25]\n",
    "upperq = quartiles[0.75]\n",
    "iqr = upperq-lowerq\n",
    "print(f\"The IQR of infubinol is: {iqr}\")\n",
    "print(f\"The lower quartile is: {lowerq}\")\n",
    "print(f\"The upper quartile is: {upperq}\")\n",
    "print(f\"The interquartile range is: {iqr}\")\n",
    "print(f\"The the median is: {quartiles[0.5]} \")\n",
    "\n",
    "lower_bound = lowerq - (1.5*iqr)\n",
    "upper_bound = upperq + (1.5*iqr)\n",
    "print(f\"Values below {lower_bound} mm3 could be outliers.\")\n",
    "print(f\"Values above {upper_bound} mm3 could be outliers.\")\n",
    "outlier =infubinol_df[(tumors > upper_bound)\\\n",
    "                       |(tumors < lower_bound)].count()\n",
    "print(f'There are {outlier[\"Mouse ID\"]} outliers.')"
   ]
  },
  {
   "cell_type": "code",
   "execution_count": 42,
   "metadata": {},
   "outputs": [
    {
     "name": "stdout",
     "output_type": "stream",
     "text": [
      "The IQR of ceftamin is: 9.5930104575\n",
      "The lower quartile is: 47.208427112500004\n",
      "The upper quartile is: 56.801437570000004\n",
      "The interquartile range is: 9.5930104575\n",
      "The the median is: 51.77615728000001 \n",
      "Values below 32.818911426250004 mm3 could be outliers.\n",
      "Values above 71.19095325625 mm3 could be outliers.\n",
      "There are 0 outliers.\n"
     ]
    }
   ],
   "source": [
    "ceftamin_df\n",
    "tumors = ceftamin_df['Tumor Volume (mm3)']\n",
    "quartiles = tumors.quantile([.25,.5,.75])\n",
    "lowerq = quartiles[0.25]\n",
    "upperq = quartiles[0.75]\n",
    "iqr = upperq-lowerq\n",
    "print(f\"The IQR of ceftamin is: {iqr}\")\n",
    "print(f\"The lower quartile is: {lowerq}\")\n",
    "print(f\"The upper quartile is: {upperq}\")\n",
    "print(f\"The interquartile range is: {iqr}\")\n",
    "print(f\"The the median is: {quartiles[0.5]} \")\n",
    "\n",
    "lower_bound = lowerq - (1.5*iqr)\n",
    "upper_bound = upperq + (1.5*iqr)\n",
    "print(f\"Values below {lower_bound} mm3 could be outliers.\")\n",
    "print(f\"Values above {upper_bound} mm3 could be outliers.\")\n",
    "outlier = ceftamin_df[(tumors > upper_bound)\\\n",
    "                       |(tumors < lower_bound)].count()\n",
    "print(f'There are {outlier[\"Mouse ID\"]} outliers.')"
   ]
  },
  {
   "cell_type": "code",
   "execution_count": 52,
   "metadata": {},
   "outputs": [
    {
     "data": {
      "image/png": "[encoded data removed]",
      "text/plain": [
       "<Figure size 432x288 with 1 Axes>"
      ]
     },
     "metadata": {
      "needs_background": "light"
     },
     "output_type": "display_data"
    }
   ],
   "source": [
    "# Generate a box plot of the final tumor volume of each mouse across four regimens of interest\n",
    "# to trilogy: questions on here and on read me are different\n",
    "# Create a df of the tumor volumen for each treatments of the best four\n",
    "# performer based on smallest tumor volumen mean\n",
    "ramicane_tv = ramicane_df['Tumor Volume (mm3)']\n",
    "capomulin_tv = capomulin_df['Tumor Volume (mm3)']\n",
    "infubinol_tv = infubinol_df['Tumor Volume (mm3)']\n",
    "ceftamin_tv = ceftamin_df['Tumor Volume (mm3)']\n",
    "#Set my boxplot parameters and plot\n",
    "plt.boxplot([ramicane_tv, capomulin_tv, infubinol_tv, ceftamin_tv], labels = ['Ramicane', 'Capomulin', 'Infubinol','Ceftamin'], flierprops = {'markerfacecolor': 'red', 'markersize' : 10})\n",
    "plt.title('Effects on Tumor Growth of Four Drug Regimens in Mice')\n",
    "plt.ylabel('Volumen (mm3)')\n",
    "plt.show()"
   ]
  },
  {
   "cell_type": "markdown",
   "metadata": {},
   "source": [
    "## Line and scatter plots"
   ]
  },
  {
   "cell_type": "code",
   "execution_count": null,
   "metadata": {},
   "outputs": [],
   "source": [
    "# Generate a line plot of time point versus tumor volume for a mouse treated with Capomulin\n",
    "#Create variables and parameteers for the plot\n",
    "mouse_s185_df = pd.DataFrame(capomulin_df.loc[capomulin_df[\"Mouse ID\"] == 's185'])\n",
    "volume_tumor = pd.DataFrame(mouse_s185_df['Tumor Volume (mm3)'])\n",
    "time_period = mouse_s185_df['Timepoint']\n",
    "\n",
    "# Plot line over the years\n",
    "plt.plot(time_period, volume_tumor, color=\"green\", label=\"Tumor Volume (mm3)\")\n",
    "\n",
    "plt.legend(loc=\"best\")\n",
    "\n",
    "plt.title(\"Effects of Capumulin on Tumor Volume over Time.\")\n",
    "plt.xlabel(\"Time\")\n",
    "plt.ylabel(\"Volume (mm3)\")\n",
    "\n",
    "# Print chart to the screen\n",
    "plt.show()"
   ]
  },
  {
   "cell_type": "code",
   "execution_count": 45,
   "metadata": {},
   "outputs": [
    {
     "data": {
      "image/png": "[encoded data removed]",
      "text/plain": [
       "<Figure size 432x288 with 1 Axes>"
      ]
     },
     "metadata": {
      "needs_background": "light"
     },
     "output_type": "display_data"
    }
   ],
   "source": [
    "# Generate a scatter plot of mouse weight versus average tumor volume for the Capomulin regimen\n",
    "plt.scatter(capomulin_df['Weight (g)'],\\\n",
    "            capomulin_df['Tumor Volume (mm3)'],\\\n",
    "            marker=\"o\", facecolors=\"red\", \\\n",
    "            edgecolors=\"black\")\n",
    "plt.xlabel(\"Weight (g)\")\n",
    "plt.ylabel(\"Volume (mm3)\")\n",
    "plt.ylim(20,50)\n",
    "plt.xlim(14,28)\n",
    "plt.title(\"Relation of Weight vs Tumor Volume in Mice under Capomulin Regimen.\")\n",
    "plt.xlabel(\"Weight (g)\")\n",
    "plt.ylabel(\"Tumor Volume (mm3)\")\n",
    "plt.show()"
   ]
  },
  {
   "cell_type": "markdown",
   "metadata": {},
   "source": [
    "#### Calculate the correlation coefficient and linear regression model for mouse weight and average tumor volume for the Capomulin regimen"
   ]
  },
  {
   "cell_type": "code",
   "execution_count": 43,
   "metadata": {},
   "outputs": [
    {
     "name": "stdout",
     "output_type": "stream",
     "text": [
      "The correlation between both factors is 0.53\n"
     ]
    }
   ],
   "source": [
    "#Calcute the correlation coefficient\n",
    "weight = capomulin_df['Weight (g)']\n",
    "tumor_volumen = capomulin_df['Tumor Volume (mm3)']\n",
    "correlation = st.pearsonr(weight,tumor_volumen)\n",
    "print(f\"The correlation between both factors is {round(correlation[0],2)}\")"
   ]
  },
  {
   "cell_type": "code",
   "execution_count": 44,
   "metadata": {},
   "outputs": [
    {
     "name": "stdout",
     "output_type": "stream",
     "text": [
      "The equation for the model of weight vs tumor volumen for the Capomulin regimen is y = 0.96x + 21.49, where weight of the mouse is the variable 'x'.\n"
     ]
    }
   ],
   "source": [
    "#Calculate the linear equation model\n",
    "from scipy.stats import linregress\n",
    "x_values = capomulin_df['Weight (g)']\n",
    "y_values = capomulin_df['Tumor Volume (mm3)']\n",
    "(slope, intercept, rvalue, pvalue, stderr) = linregress(x_values, y_values)\n",
    "regress_values = x_values * slope + intercept\n",
    "line_eq = \"y = \" + str(round(slope,2)) + \"x + \" + str(round(intercept,2))\n",
    "print(f\"The equation for the model of weight vs tumor volumen for the Capomulin regimen is {line_eq}, where weight of the mouse is the variable 'x'.\")"
   ]
  },
  {
   "cell_type": "code",
   "execution_count": null,
   "metadata": {},
   "outputs": [],
   "source": []
  }
 ],
 "metadata": {
  "anaconda-cloud": {},
  "kernelspec": {
   "display_name": "Python 3",
   "language": "python",
   "name": "python3"
  },
  "language_info": {
   "codemirror_mode": {
    "name": "ipython",
    "version": 3
   },
   "file_extension": ".py",
   "mimetype": "text/x-python",
   "name": "python",
   "nbconvert_exporter": "python",
   "pygments_lexer": "ipython3",
   "version": "3.6.10"
  }
 },
 "nbformat": 4,
 "nbformat_minor": 2
}
